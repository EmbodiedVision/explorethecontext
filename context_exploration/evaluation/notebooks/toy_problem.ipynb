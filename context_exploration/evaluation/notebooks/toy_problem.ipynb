{
 "cells": [
  {
   "cell_type": "code",
   "execution_count": null,
   "metadata": {},
   "outputs": [],
   "source": [
    "import sys\n",
    "sys.path.append(\"../../../../context-exploration-code/\")\n",
    "\n",
    "import numpy as np\n",
    "import matplotlib as mpl\n",
    "import matplotlib.pyplot as plt\n",
    "\n",
    "from matplotlib import rc\n",
    "rc('font',**{'family':'sans-serif','sans-serif':['Helvetica']})\n",
    "## for Palatino and other serif fonts use:\n",
    "#rc('font',**{'family':'serif','serif':['Palatino']})\n",
    "rc('text', usetex=True)\n",
    "rc('text.latex', preamble=r\"\\usepackage{amsmath} \"+\"\\n\"+r\" \\usepackage{bm}\")\n",
    "mpl.rcParams.update({'font.size': 12})\n",
    "\n",
    "fig_scale = 1.8"
   ]
  },
  {
   "cell_type": "code",
   "execution_count": null,
   "metadata": {},
   "outputs": [],
   "source": [
    "from context_exploration.evaluation.optimize_action import average_entropy_plot_from_run"
   ]
  },
  {
   "cell_type": "code",
   "execution_count": null,
   "metadata": {},
   "outputs": [],
   "source": [
    "def plot_for_run(run_id_asq1, run_id_asq1_noisefree, run_id_asq2, run_id_asq2_noisefree, step):\n",
    "    fig, ax = plt.subplots(nrows=2, ncols=2, sharex=True, figsize=(5.4*0.5*fig_scale, 2*fig_scale), dpi=80)\n",
    "    average_entropy_plot_from_run(run_id_asq1_noisefree, step, ax[1, 0], label=\"$\\epsilon=0$\", rel=True)\n",
    "    average_entropy_plot_from_run(run_id_asq2_noisefree, step, ax[1, 1], rel=True)\n",
    "    average_entropy_plot_from_run(run_id_asq1, step, ax[1, 0], label=\"$\\epsilon \\sim \\mathcal{N}(0, 0.01^2)$\", rel=True)\n",
    "    average_entropy_plot_from_run(run_id_asq2, step, ax[1, 1], rel=True)\n",
    "    plt.subplots_adjust(wspace=1, hspace=0.5)\n",
    "    \n",
    "    actions = np.linspace(-2, 2, 100)\n",
    "    squash_1 = np.clip(1-np.abs(actions), a_min=0, a_max=None)\n",
    "    squash_2 = np.clip(np.abs(actions)-1, a_min=0, a_max=None)\n",
    "    ax[0, 0].plot(actions, squash_1)\n",
    "    ax[0, 0].set_ylabel(\"$\\delta^{<1}(u_n) =$\\n$ \\max(1-|u_n|, 0)$\")\n",
    "    ax[0, 0].set_xlabel(\"Action $u$\")\n",
    "    ax[0, 1].plot(actions, squash_2)\n",
    "    ax[0, 1].set_ylabel(\"$\\delta^{>1}(u_n) =$\\n$ \\max(|u_n|-1, 0)$\")\n",
    "    ax[0, 1].set_xlabel(\"Action $u$\")\n",
    "    \n",
    "    for row in range(2):\n",
    "        ax[row, 0].axvspan(-1, 1, color='gray', alpha=0.2, lw=0)\n",
    "        ax[row, 1].axvspan(-2, -1, color='gray', alpha=0.2, lw=0)\n",
    "        ax[row, 1].axvspan(1, 2, color='gray', alpha=0.2, lw=0)\n",
    "    \n",
    "    ax[0, 0].set_title(\"$\\delta^{<1}(u_n)$\")\n",
    "    ax[0, 1].set_title(\"$\\delta^{>1}(u_n)$\")\n",
    "    #ax[1, 0].set_ylabel(\"Avg. entropy \\n \"+r\"$\\bm{\\epsilon} \\sim \\mathcal{N}(0, \\bm{I}\\cdot(0.01)^2)$\")\n",
    "    #ax[1, 1].set_ylabel(\"Avg. entropy \\n \"+r\"$\\bm{\\epsilon} \\sim \\mathcal{N}(0, \\bm{I}\\cdot(0.01)^2)$\")\n",
    "    #ax[1, 1].set_ylabel(\"Avg. entropy \\n \"+r\"$\\bm{\\epsilon} \\sim \\mathcal{N}(0, \\bm{I}\\cdot(0.01)^2)$\")\n",
    "    #ax[2, 0].set_ylabel(\"Avg. entropy \\n \"+r\"$\\bm{\\epsilon} = 0$\")\n",
    "    #ax[2, 1].set_ylabel(\"Avg. entropy \\n \"+r\"$\\bm{\\epsilon} = 0$\")\n",
    "    #ax[1, 0].set_ylim(-4, 3)\n",
    "    #ax[1, 1].set_ylim(-4, 3)\n",
    "    #ax[2, 0].set_ylim(-4, 3)\n",
    "    #ax[2, 1].set_ylim(-4, 3)\n",
    "    ax[1, 0].legend(handlelength=0.2, bbox_to_anchor=(2.5, -0.5), ncol=2)"
   ]
  },
  {
   "cell_type": "code",
   "execution_count": null,
   "metadata": {
    "scrolled": false
   },
   "outputs": [],
   "source": [
    "plot_for_run(\n",
    "    \"cr_s3_asq1_posweights_relu_npklw5\", \n",
    "    \"cr_s3_asq1_noisefree_posweights_relu_npklw5\",\n",
    "    \"cr_s3_asq2_posweights_relu_npklw5\",\n",
    "    \"cr_s3_asq2_noisefree_posweights_relu_npklw5\",\n",
    "    \"50000_best\")\n",
    "# set CreationDate to 'None' for deterministic PDF output\n",
    "plt.savefig(\"generated/toy_problem.pdf\", bbox_inches='tight', dpi=80)"
   ]
  },
  {
   "cell_type": "markdown",
   "metadata": {},
   "source": [
    "### Plot distribution of states for rollouts of toy system"
   ]
  },
  {
   "cell_type": "code",
   "execution_count": null,
   "metadata": {},
   "outputs": [],
   "source": [
    "from context_exploration.model.loader import get_run_directory, load_config, load_model\n",
    "from context_exploration.data.envs import make_env\n",
    "from context_exploration.evaluation.evaluate_calibration import generate_validation_rollouts\n",
    "\n",
    "run_id = \"cr_s3_asq1_posweights_relu_npklw5\"\n",
    "checkpoint_step = \"50000_best\"\n",
    "device = \"cuda\"\n",
    "env_name, _, _, _ = load_model(\n",
    "    run_id, checkpoint_step, device\n",
    ")\n",
    "env = make_env(env_name)\n",
    "observation_list = []\n",
    "action_rng = np.random.RandomState(42)\n",
    "rollout_length = 100\n",
    "actions = action_rng.uniform(-2, 2, rollout_length)\n",
    "\n",
    "for context_idx in range(50):\n",
    "    env.initialize_context(42)\n",
    "    #env.seed(42)\n",
    "    obs = env.reset()\n",
    "\n",
    "    observations = [obs]\n",
    "    for action in actions:\n",
    "        obs, _, _, _ = env.step([action])\n",
    "        observations.append(obs)\n",
    "    \n",
    "    observations = np.stack(observations)\n",
    "    observation_list.append(observations)\n",
    "    env.release_context()\n",
    "    \n",
    "observations = np.stack(observation_list)"
   ]
  },
  {
   "cell_type": "code",
   "execution_count": null,
   "metadata": {},
   "outputs": [],
   "source": [
    "print(observations.shape)\n",
    "\n",
    "import matplotlib.pyplot as plt\n",
    "for idx in range(50):\n",
    "    plt.plot(observations[idx, :, 0])"
   ]
  },
  {
   "cell_type": "code",
   "execution_count": null,
   "metadata": {},
   "outputs": [],
   "source": []
  }
 ],
 "metadata": {
  "kernelspec": {
   "display_name": "Python 3",
   "language": "python",
   "name": "python3"
  },
  "language_info": {
   "codemirror_mode": {
    "name": "ipython",
    "version": 3
   },
   "file_extension": ".py",
   "mimetype": "text/x-python",
   "name": "python",
   "nbconvert_exporter": "python",
   "pygments_lexer": "ipython3",
   "version": "3.6.9"
  }
 },
 "nbformat": 4,
 "nbformat_minor": 4
}
