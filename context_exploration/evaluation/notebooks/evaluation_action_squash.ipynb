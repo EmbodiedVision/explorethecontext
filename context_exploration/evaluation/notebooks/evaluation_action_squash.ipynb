{
 "cells": [
  {
   "cell_type": "code",
   "execution_count": null,
   "metadata": {},
   "outputs": [],
   "source": [
    "import sys\n",
    "sys.path.append(\"../../../../context-exploration-code/\")\n",
    "\n",
    "from context_exploration.model.loader import get_run_directory, load_config\n",
    "from context_exploration.data.envs import make_env\n",
    "from context_exploration.evaluation.process_calibration import plot_calibration_results\n",
    "\n",
    "from IPython import display\n",
    "import pickle as pkl\n",
    "from pathlib import Path\n",
    "import pandas as pd\n",
    "import seaborn as sns\n",
    "import numpy as np\n",
    "\n",
    "\n",
    "import matplotlib as mpl\n",
    "import matplotlib.pyplot as plt\n",
    "\n",
    "from matplotlib import rc\n",
    "rc('font',**{'family':'sans-serif','sans-serif':['Helvetica']})\n",
    "rc('text', usetex=True)\n",
    "mpl.rcParams.update({'font.size': 12})\n",
    "\n",
    "fig_scale = 1.8"
   ]
  },
  {
   "cell_type": "code",
   "execution_count": null,
   "metadata": {
    "scrolled": false
   },
   "outputs": [],
   "source": [
    "def runs_for_asq(env_name):\n",
    "    RUN_LIST = [f\"cr_s{s}_{env_name}_posweights_relu_npklw5\" for s in [1, 2, 3]]\n",
    "\n",
    "    runs = [\n",
    "        {\n",
    "            \"id_list\": RUN_LIST,\n",
    "            \"label\": \"1T\",\n",
    "            \"plot_opts\": {\"linestyle\": \"--\"},\n",
    "            \"criterion\": \"neg-entropy\",\n",
    "            \"checkpoint_step\": \"50000_best\",\n",
    "            \"rollout_length\": 1,\n",
    "            \"cem_planning_horizon\": 20,\n",
    "            \"n_env_inits\": 1,\n",
    "            \"has_mpc\": False,\n",
    "            \"has_minmax\": False\n",
    "        },\n",
    "        {\n",
    "            \"id_list\": RUN_LIST,\n",
    "            \"label\": \"2T\",\n",
    "            \"plot_opts\": {\"linestyle\": \"--\"},\n",
    "            \"criterion\": \"neg-entropy\",\n",
    "            \"checkpoint_step\": \"50000_best\",\n",
    "            \"rollout_length\": 2,\n",
    "            \"cem_planning_horizon\": 20,\n",
    "            \"n_env_inits\": 1,\n",
    "            \"has_mpc\": False,\n",
    "            \"has_minmax\": False\n",
    "        },\n",
    "        {\n",
    "            \"id_list\": RUN_LIST,\n",
    "            \"label\": \"3T\",\n",
    "            \"plot_opts\": {\"linestyle\": \"--\"},\n",
    "            \"criterion\": \"neg-entropy\",\n",
    "            \"checkpoint_step\": \"50000_best\",\n",
    "            \"rollout_length\": 3,\n",
    "            \"cem_planning_horizon\": 20,\n",
    "            \"n_env_inits\": 1,\n",
    "            \"has_mpc\": False,\n",
    "            \"has_minmax\": False\n",
    "        },\n",
    "    ]\n",
    "    return runs\n",
    "\n",
    "fig, ax = plt.subplots(nrows=1, ncols=2, figsize=(5.4 * 0.5 * fig_scale, 0.9 * fig_scale), sharey=True)\n",
    "\n",
    "plot_calibration_results(runs_for_asq(\"asq1\"), fig_scale=fig_scale, aggregation=\"mean\", legend=False, \n",
    "                         legend_kwargs={}, ax=ax[0])\n",
    "plot_calibration_results(runs_for_asq(\"asq2\"), fig_scale=fig_scale, aggregation=\"mean\", legend=True, \n",
    "                         legend_kwargs={\"ncol\": 3, \"loc\": \"center\", \"bbox_to_anchor\": (-0.1, -0.7)},\n",
    "                         ax=ax[1])\n",
    "plt.savefig(\"generated/toy_problem_random_vs_mpc_results.pdf\", bbox_inches=\"tight\")"
   ]
  },
  {
   "cell_type": "code",
   "execution_count": null,
   "metadata": {},
   "outputs": [],
   "source": []
  }
 ],
 "metadata": {
  "kernelspec": {
   "display_name": "Python 3",
   "language": "python",
   "name": "python3"
  },
  "language_info": {
   "codemirror_mode": {
    "name": "ipython",
    "version": 3
   },
   "file_extension": ".py",
   "mimetype": "text/x-python",
   "name": "python",
   "nbconvert_exporter": "python",
   "pygments_lexer": "ipython3",
   "version": "3.6.9"
  }
 },
 "nbformat": 4,
 "nbformat_minor": 4
}
